{
 "cells": [
  {
   "cell_type": "code",
   "execution_count": 6,
   "metadata": {},
   "outputs": [
    {
     "name": "stdout",
     "output_type": "stream",
     "text": [
      "-----------------------\n",
      "None\n",
      "ffmpeg -version\n",
      "-----------------------\n"
     ]
    }
   ],
   "source": [
    "import glob\n",
    "import time\n",
    "\n",
    "import pickle\n",
    "import cv2\n",
    "import numpy as np\n",
    "import matplotlib.pyplot as plt\n",
    "import matplotlib.image as mpimg\n",
    "from moviepy.editor import VideoFileClip\n",
    "\n",
    "import sklearn\n",
    "from sklearn.preprocessing import StandardScaler\n",
    "from skimage.feature import hog\n",
    "from sklearn.svm import LinearSVC\n",
    "from sklearn.cross_validation import train_test_split\n",
    "from scipy.ndimage.measurements import label\n",
    "\n",
    "%matplotlib inline"
   ]
  },
  {
   "cell_type": "code",
   "execution_count": 7,
   "metadata": {},
   "outputs": [],
   "source": [
    "from src.features import extract_features, get_hog_features\n",
    "from src.utils import *\n",
    "from src.search import Search"
   ]
  },
  {
   "cell_type": "code",
   "execution_count": 8,
   "metadata": {},
   "outputs": [],
   "source": [
    "non_vehicles_images_names = glob.glob(\"data/non-vehicles/non-vehicles/**/*.png\")\n",
    "vehicles_images_names = glob.glob(\"data/vehicles/vehicles/**/*.png\")    "
   ]
  },
  {
   "cell_type": "code",
   "execution_count": 14,
   "metadata": {},
   "outputs": [
    {
     "name": "stdout",
     "output_type": "stream",
     "text": [
      "RGB 9 8 2\n",
      "Test Accuracy of SVC =  0.9758\n",
      "11.07 Seconds to train SVC...\n",
      "\n",
      "HLS 9 8 2\n",
      "Test Accuracy of SVC =  0.9814\n",
      "5.63 Seconds to train SVC...\n",
      "\n",
      "HSV 9 8 2\n",
      "Test Accuracy of SVC =  0.9828\n",
      "6.33 Seconds to train SVC...\n",
      "\n",
      "YUV 11 8 2\n",
      "Test Accuracy of SVC =  0.9825\n",
      "6.03 Seconds to train SVC...\n",
      "\n",
      "LUV 9 8 2\n",
      "Test Accuracy of SVC =  0.9764\n",
      "6.61 Seconds to train SVC...\n",
      "\n",
      "YCrCb 9 8 2\n",
      "Test Accuracy of SVC =  0.9797\n",
      "5.46 Seconds to train SVC...\n",
      "\n",
      "YCrCb 11 8 2\n",
      "Test Accuracy of SVC =  0.9823\n",
      "5.93 Seconds to train SVC...\n",
      "\n",
      "YUV 11 16 2\n",
      "Test Accuracy of SVC =  0.9828\n",
      "0.83 Seconds to train SVC...\n",
      "\n"
     ]
    }
   ],
   "source": [
    "configs = [(\"RGB\", 9, 8, 2),\n",
    "           (\"HLS\", 9, 8, 2),\n",
    "           (\"HSV\", 9, 8, 2),\n",
    "           (\"YUV\", 11, 8, 2),\n",
    "           (\"LUV\", 9, 8, 2),\n",
    "           (\"YCrCb\", 9, 8, 2),\n",
    "           (\"YCrCb\", 11, 8, 2),\n",
    "           (\"YUV\", 11, 16, 2)]\n",
    "\n",
    "header_line = ('Colorspace | Orientations | Pixels Per Cell | Cells Per Block | Evaluation time ' +\n",
    "    '| Accuracy')\n",
    "divider = '--- | --- | --- | --- | --- | ---'\n",
    "table_lines = [header_line, divider]\n",
    "for config in configs:\n",
    "    vehicle_features = extract_features(\n",
    "        vehicles_images_names,\n",
    "        orient=config[1],\n",
    "        pix_per_cell=config[2],\n",
    "        cell_per_block=config[3],\n",
    "        hog_channel=\"ALL\",\n",
    "        cspace=config[0]\n",
    "    )\n",
    "    non_vehicles_features = extract_features(\n",
    "        non_vehicles_images_names,\n",
    "        orient=config[1],\n",
    "        pix_per_cell=config[2],\n",
    "        cell_per_block=config[3],\n",
    "        hog_channel=\"ALL\",\n",
    "        cspace=config[0]\n",
    "    )\n",
    "\n",
    "    X = np.vstack((vehicle_features, non_vehicles_features)).astype(np.float64)\n",
    "    Y = np.hstack((np.ones(len(vehicle_features)), np.zeros(len(non_vehicles_features))))\n",
    "\n",
    "    train_features, test_features, train_labels, test_labels = train_test_split(X, Y, test_size=0.2, random_state=42)\n",
    "\n",
    "    svc = LinearSVC()\n",
    "    t = time.time()\n",
    "    svc.fit(train_features, train_labels)\n",
    "    t2 = time.time()\n",
    "    \n",
    "    evaluation_time = round(t2 - t, 2)\n",
    "    accuracy = round(svc.score(test_features, test_labels), 4)\n",
    "    \n",
    "    print(\"{} {} {} {}\".format(config[0], config[1], config[2], config[3]))\n",
    "    print('Test Accuracy of SVC = ', accuracy)\n",
    "    print(evaluation_time, 'Seconds to train SVC...')\n",
    "    print()\n",
    "    \n",
    "    line = \"{} | {} | {} | {} | {} | {}\".format(\n",
    "        config[0],\n",
    "        config[1],\n",
    "        config[2],\n",
    "        config[3],\n",
    "        evaluation_time,\n",
    "        accuracy\n",
    "    )\n",
    "    table_lines.append(line)"
   ]
  },
  {
   "cell_type": "code",
   "execution_count": 15,
   "metadata": {},
   "outputs": [
    {
     "name": "stdout",
     "output_type": "stream",
     "text": [
      "For MD file:\n",
      "Colorspace | Orientations | Pixels Per Cell | Cells Per Block | Evaluation time | Accuracy\n",
      "--- | --- | --- | --- | --- | ---\n",
      "RGB | 9 | 8 | 2 | 11.07 | 0.9758\n",
      "HLS | 9 | 8 | 2 | 5.63 | 0.9814\n",
      "HSV | 9 | 8 | 2 | 6.33 | 0.9828\n",
      "YUV | 11 | 8 | 2 | 6.03 | 0.9825\n",
      "LUV | 9 | 8 | 2 | 6.61 | 0.9764\n",
      "YCrCb | 9 | 8 | 2 | 5.46 | 0.9797\n",
      "YCrCb | 11 | 8 | 2 | 5.93 | 0.9823\n",
      "YUV | 11 | 16 | 2 | 0.83 | 0.9828\n"
     ]
    }
   ],
   "source": [
    "print('For MD file:')\n",
    "for line in table_lines:\n",
    "    print(line)"
   ]
  },
  {
   "cell_type": "code",
   "execution_count": null,
   "metadata": {},
   "outputs": [],
   "source": []
  }
 ],
 "metadata": {
  "kernelspec": {
   "display_name": "Python 3",
   "language": "python",
   "name": "python3"
  },
  "language_info": {
   "codemirror_mode": {
    "name": "ipython",
    "version": 3
   },
   "file_extension": ".py",
   "mimetype": "text/x-python",
   "name": "python",
   "nbconvert_exporter": "python",
   "pygments_lexer": "ipython3",
   "version": "3.6.3"
  }
 },
 "nbformat": 4,
 "nbformat_minor": 2
}
